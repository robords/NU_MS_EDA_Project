{
 "cells": [
  {
   "cell_type": "markdown",
   "metadata": {},
   "source": [
    "# EDA Project"
   ]
  },
  {
   "cell_type": "markdown",
   "metadata": {},
   "source": [
    "<div class=\"alert alert-block alert-info\">The EDA project in this course has four main parts to it: <br>\n",
    "    \n",
    "1. Project Proposal\n",
    "2. Phase 1\n",
    "3. Phase 2\n",
    "4. Report\n",
    "\n",
    "This notebook will be used for Project Proposal, Phase 1, and Phase 2. You will have specific questions to answer within this notebook for Project Proposal and Phase 1. You will also continue using this notebook for Phase 2. However, guidance and expectations can be found on Canvas for that assignment. The report is completed outside of this notebook (delivered as a PDF). Detailed instructions for that assignment are provided in Canvas.</div>"
   ]
  },
  {
   "cell_type": "markdown",
   "metadata": {},
   "source": [
    "<div class=\"alert alert-block alert-danger\"><b><font size=4>Read this before proceeding:</font></b>\n",
    "    \n",
    "1. Review the list of data sets and sources of data to avoid before choosing your data. This list is provided in the instructions for the Project Proposal assignment in Canvas.<br><br>  \n",
    "\n",
    "2. It is expected that when you are asked questions requiring typed explanations you are to use a <b><u>markdown cell</u></b> to type your answers neatly. <b><u><i>Do not provide typed answers to questions as extra comments within your code.</i></u></b> Only provide comments within your code as you normally would, i.e. as needed to explain or remind yourself what each part of the code is doing.</div>"
   ]
  },
  {
   "cell_type": "markdown",
   "metadata": {},
   "source": [
    "# Project Proposal"
   ]
  },
  {
   "cell_type": "markdown",
   "metadata": {},
   "source": [
    "<div class=\"alert alert-block alert-info\">The intent of this assignment is for you to share your chosen data file(s) with your instructor and provide general information on your goals for the EDA project.</div>"
   ]
  },
  {
   "cell_type": "markdown",
   "metadata": {},
   "source": [
    "<div class=\"alert alert-block alert-success\"><b>Step 1 (2 pts)</b>: Give a brief <i><u>description</u></i> of the source(s) of your data and include a <i><u>direct link</u></i> to your data.</div>"
   ]
  },
  {
   "cell_type": "markdown",
   "metadata": {},
   "source": [
    "##### Question 1\n",
    "\n",
    "Our source of data is from IMDb (International Movie Database) which is an online database and website for information about movies, television shows, and other streaming content. It is a popular site for people to look up inforamation about ratings, cast, directors, reviews, plot, and any other related information about the content. The 4 datasets we chose to use from their database are the Titles basics, the Ratings data, the crew data, and the name basics. The Titles basics has the name of the media, when and how long it was released or aired, run time, and the genres it belongs to. The Ratings data provides the popularity rating and number of votes of the media title. The crew data provides the IDs for directors and writers. Lastly, the Name basics provides the person's name and primary professions. More information about the data sets can be found here: https://www.imdb.com/interfaces/. The specific data sets for download are found here: https://datasets.imdbws.com/."
   ]
  },
  {
   "cell_type": "markdown",
   "metadata": {},
   "source": [
    "<div class=\"alert alert-block alert-success\"><b>Step 2 (2 pts)</b>: Briefly explain why you chose this data.</div>"
   ]
  },
  {
   "cell_type": "markdown",
   "metadata": {},
   "source": [
    "##### Question 2\n",
    "\n",
    "Understanding data is a key characteristic to starting statistical analysis. Starting off, our team discussed interests and experiences we might have in common, ultimately agreeing with true crime media. This led us to the IMDb dataset, which we could easily understand given our backgrounds and previous use of the site. Furthermore, we were able to come up with unique questions related to True Crime that we want answered through the analysis of our dataset. While there are analytical reports of IMDb data online, we did not find any analysis related to the questions we came up with. \n",
    "\n",
    "Out of this database, the most relevant datasets that we believe could be useful to answer our questions were title.basics, title.ratings, name.basics and title.crew. There are many other databases such as Rotten Tomatoes or Yahoo! Movies, but IMBD allows us to easily read their tsv data files through the pandas library. This is a simple file format to manipulate and extract to dive deep into coding."
   ]
  },
  {
   "cell_type": "markdown",
   "metadata": {},
   "source": [
    "<div class=\"alert alert-block alert-success\"><b>Step 3 (1 pt)</b>: Provide a brief overview of your goals for this project.</div>"
   ]
  },
  {
   "cell_type": "markdown",
   "metadata": {},
   "source": [
    "##### Question 3\n",
    "\n",
    "We want to understand what drives the popularity of True Crime media, and media in general over time.  Specifically, we would like to be able to prove or disprove some of the following questions by the end of this project:\n",
    "  * Is it true that True Crime has become more popular over the past five years? \n",
    "  * Has there been an increase in the popularity of documentaries in general?\n",
    "  * Has there been an increase in the volume of documentaries in general?\n",
    "  * Is there a correlation between the air date of a True Crime TV show or movie and it's popularity? \n",
    "  * Are there correlations between the popularity of a genre, specifically True Crime, and the crew?\n",
    "  \n",
    "Given these questions, we'll need to import data from IMDb for the title of the production itself, the crew, the names of the crew and the ratings for that production.  We'll need to download the data, clean it (there are many nulls represented by \"/N\") and join it in order to proceed with answering the above questions."
   ]
  },
  {
   "cell_type": "markdown",
   "metadata": {},
   "source": [
    "<div class=\"alert alert-block alert-success\"><b>Step 4 (1 pt)</b>: Read the data into this notebook.</div>"
   ]
  },
  {
   "cell_type": "code",
   "execution_count": null,
   "metadata": {},
   "outputs": [],
   "source": [
    "##Import libraries\n",
    "import sys\n",
    "\n",
    "import pandas as pd\n",
    "import urllib.request  # used to retrieve files from the internet\n",
    "import numpy as np\n",
    "import re\n",
    "import seaborn as sns\n",
    "#import plotly.express as px\n",
    "\n",
    "# set up notebook to display multiple output in one cell\n",
    "from IPython.core.interactiveshell import InteractiveShell\n",
    "InteractiveShell.ast_node_interactivity = \"all\""
   ]
  },
  {
   "cell_type": "code",
   "execution_count": null,
   "metadata": {},
   "outputs": [],
   "source": [
    "def read_imdb_data(*args):\n",
    "    '''\n",
    "    Input a list of urls from imdb's datasets (https://datasets.imdbws.com/) and return a list of dataframes\n",
    "    '''\n",
    "    df_list = [] #instantiate a list\n",
    "    if len(args):    # check to make sure the user input at least one item in the list\n",
    "        for i in args:                     # for each url:\n",
    "            filename = i.split('/', 3)[-1] # extract a filename from the url (everything after the 3rd \"/\" delimeter)\n",
    "            urllib.request.urlretrieve(i, filename) #retrieve the file from the internet and copy it locally (https://docs.python.org/3/library/urllib.request.html)\n",
    "            df_list.append(pd.read_csv(filename, compression='gzip', sep='\\t', low_memory=False)) \n",
    "            # open the local file as a dataframe and append the dataframe to a list \n",
    "            # low_memory = False will ensure there no mixed types for the columns.  See https://pandas.pydata.org/pandas-docs/stable/reference/api/pandas.read_csv.html\n",
    "    else:\n",
    "        print('No URLs were passed to read_imbd_data()')\n",
    "    return df_list  #returns a list of dataframes\n",
    "\n",
    "\n",
    "urls = ['https://datasets.imdbws.com/title.ratings.tsv.gz',\n",
    "       'https://datasets.imdbws.com/title.crew.tsv.gz',\n",
    "       'https://datasets.imdbws.com/title.basics.tsv.gz',\n",
    "       'https://datasets.imdbws.com/name.basics.tsv.gz']  # list of urls from imdb\n",
    "\n",
    "df_list = read_imdb_data(*urls) # call the function with the list of urls, of any length, and save the dataframes returned\n",
    "\n",
    "imdb_ratings, imdb_crew, imdb_title_basics, imdb_name = df_list[0], df_list[1], df_list[2], df_list[3] \n",
    "# save each dataframe independently so we can explore them"
   ]
  },
  {
   "cell_type": "markdown",
   "metadata": {},
   "source": [
    "<div class=\"alert alert-block alert-success\"><b>Step 5 (1 pt)</b>: Inspect the data using the <b>info(&nbsp;)</b>, <b>head(&nbsp;)</b>, and <b>tail(&nbsp;)</b> methods.</div>"
   ]
  },
  {
   "cell_type": "code",
   "execution_count": null,
   "metadata": {},
   "outputs": [],
   "source": [
    "# Use the info() method to determine to inspect the variable (column) names, the number of non-null values,\n",
    "#       and the data types for each variable.\n",
    "imdb_title_basics.info()\n",
    "imdb_crew.info()\n",
    "imdb_ratings.info()\n",
    "imdb_name.info()"
   ]
  },
  {
   "cell_type": "code",
   "execution_count": 4,
   "metadata": {},
   "outputs": [
    {
     "data": {
      "text/html": [
       "<div>\n",
       "<style scoped>\n",
       "    .dataframe tbody tr th:only-of-type {\n",
       "        vertical-align: middle;\n",
       "    }\n",
       "\n",
       "    .dataframe tbody tr th {\n",
       "        vertical-align: top;\n",
       "    }\n",
       "\n",
       "    .dataframe thead th {\n",
       "        text-align: right;\n",
       "    }\n",
       "</style>\n",
       "<table border=\"1\" class=\"dataframe\">\n",
       "  <thead>\n",
       "    <tr style=\"text-align: right;\">\n",
       "      <th></th>\n",
       "      <th>tconst</th>\n",
       "      <th>titleType</th>\n",
       "      <th>primaryTitle</th>\n",
       "      <th>originalTitle</th>\n",
       "      <th>isAdult</th>\n",
       "      <th>startYear</th>\n",
       "      <th>endYear</th>\n",
       "      <th>runtimeMinutes</th>\n",
       "      <th>genres</th>\n",
       "    </tr>\n",
       "  </thead>\n",
       "  <tbody>\n",
       "    <tr>\n",
       "      <th>0</th>\n",
       "      <td>tt0000001</td>\n",
       "      <td>short</td>\n",
       "      <td>Carmencita</td>\n",
       "      <td>Carmencita</td>\n",
       "      <td>0</td>\n",
       "      <td>1894</td>\n",
       "      <td>\\N</td>\n",
       "      <td>1</td>\n",
       "      <td>Documentary,Short</td>\n",
       "    </tr>\n",
       "    <tr>\n",
       "      <th>1</th>\n",
       "      <td>tt0000002</td>\n",
       "      <td>short</td>\n",
       "      <td>Le clown et ses chiens</td>\n",
       "      <td>Le clown et ses chiens</td>\n",
       "      <td>0</td>\n",
       "      <td>1892</td>\n",
       "      <td>\\N</td>\n",
       "      <td>5</td>\n",
       "      <td>Animation,Short</td>\n",
       "    </tr>\n",
       "    <tr>\n",
       "      <th>2</th>\n",
       "      <td>tt0000003</td>\n",
       "      <td>short</td>\n",
       "      <td>Pauvre Pierrot</td>\n",
       "      <td>Pauvre Pierrot</td>\n",
       "      <td>0</td>\n",
       "      <td>1892</td>\n",
       "      <td>\\N</td>\n",
       "      <td>4</td>\n",
       "      <td>Animation,Comedy,Romance</td>\n",
       "    </tr>\n",
       "    <tr>\n",
       "      <th>3</th>\n",
       "      <td>tt0000004</td>\n",
       "      <td>short</td>\n",
       "      <td>Un bon bock</td>\n",
       "      <td>Un bon bock</td>\n",
       "      <td>0</td>\n",
       "      <td>1892</td>\n",
       "      <td>\\N</td>\n",
       "      <td>12</td>\n",
       "      <td>Animation,Short</td>\n",
       "    </tr>\n",
       "    <tr>\n",
       "      <th>4</th>\n",
       "      <td>tt0000005</td>\n",
       "      <td>short</td>\n",
       "      <td>Blacksmith Scene</td>\n",
       "      <td>Blacksmith Scene</td>\n",
       "      <td>0</td>\n",
       "      <td>1893</td>\n",
       "      <td>\\N</td>\n",
       "      <td>1</td>\n",
       "      <td>Comedy,Short</td>\n",
       "    </tr>\n",
       "  </tbody>\n",
       "</table>\n",
       "</div>"
      ],
      "text/plain": [
       "      tconst titleType            primaryTitle           originalTitle  \\\n",
       "0  tt0000001     short              Carmencita              Carmencita   \n",
       "1  tt0000002     short  Le clown et ses chiens  Le clown et ses chiens   \n",
       "2  tt0000003     short          Pauvre Pierrot          Pauvre Pierrot   \n",
       "3  tt0000004     short             Un bon bock             Un bon bock   \n",
       "4  tt0000005     short        Blacksmith Scene        Blacksmith Scene   \n",
       "\n",
       "  isAdult startYear endYear runtimeMinutes                    genres  \n",
       "0       0      1894      \\N              1         Documentary,Short  \n",
       "1       0      1892      \\N              5           Animation,Short  \n",
       "2       0      1892      \\N              4  Animation,Comedy,Romance  \n",
       "3       0      1892      \\N             12           Animation,Short  \n",
       "4       0      1893      \\N              1              Comedy,Short  "
      ]
     },
     "execution_count": 4,
     "metadata": {},
     "output_type": "execute_result"
    },
    {
     "data": {
      "text/html": [
       "<div>\n",
       "<style scoped>\n",
       "    .dataframe tbody tr th:only-of-type {\n",
       "        vertical-align: middle;\n",
       "    }\n",
       "\n",
       "    .dataframe tbody tr th {\n",
       "        vertical-align: top;\n",
       "    }\n",
       "\n",
       "    .dataframe thead th {\n",
       "        text-align: right;\n",
       "    }\n",
       "</style>\n",
       "<table border=\"1\" class=\"dataframe\">\n",
       "  <thead>\n",
       "    <tr style=\"text-align: right;\">\n",
       "      <th></th>\n",
       "      <th>tconst</th>\n",
       "      <th>directors</th>\n",
       "      <th>writers</th>\n",
       "    </tr>\n",
       "  </thead>\n",
       "  <tbody>\n",
       "    <tr>\n",
       "      <th>0</th>\n",
       "      <td>tt0000001</td>\n",
       "      <td>nm0005690</td>\n",
       "      <td>\\N</td>\n",
       "    </tr>\n",
       "    <tr>\n",
       "      <th>1</th>\n",
       "      <td>tt0000002</td>\n",
       "      <td>nm0721526</td>\n",
       "      <td>\\N</td>\n",
       "    </tr>\n",
       "    <tr>\n",
       "      <th>2</th>\n",
       "      <td>tt0000003</td>\n",
       "      <td>nm0721526</td>\n",
       "      <td>\\N</td>\n",
       "    </tr>\n",
       "    <tr>\n",
       "      <th>3</th>\n",
       "      <td>tt0000004</td>\n",
       "      <td>nm0721526</td>\n",
       "      <td>\\N</td>\n",
       "    </tr>\n",
       "    <tr>\n",
       "      <th>4</th>\n",
       "      <td>tt0000005</td>\n",
       "      <td>nm0005690</td>\n",
       "      <td>\\N</td>\n",
       "    </tr>\n",
       "  </tbody>\n",
       "</table>\n",
       "</div>"
      ],
      "text/plain": [
       "      tconst  directors writers\n",
       "0  tt0000001  nm0005690      \\N\n",
       "1  tt0000002  nm0721526      \\N\n",
       "2  tt0000003  nm0721526      \\N\n",
       "3  tt0000004  nm0721526      \\N\n",
       "4  tt0000005  nm0005690      \\N"
      ]
     },
     "execution_count": 4,
     "metadata": {},
     "output_type": "execute_result"
    },
    {
     "data": {
      "text/html": [
       "<div>\n",
       "<style scoped>\n",
       "    .dataframe tbody tr th:only-of-type {\n",
       "        vertical-align: middle;\n",
       "    }\n",
       "\n",
       "    .dataframe tbody tr th {\n",
       "        vertical-align: top;\n",
       "    }\n",
       "\n",
       "    .dataframe thead th {\n",
       "        text-align: right;\n",
       "    }\n",
       "</style>\n",
       "<table border=\"1\" class=\"dataframe\">\n",
       "  <thead>\n",
       "    <tr style=\"text-align: right;\">\n",
       "      <th></th>\n",
       "      <th>tconst</th>\n",
       "      <th>averageRating</th>\n",
       "      <th>numVotes</th>\n",
       "    </tr>\n",
       "  </thead>\n",
       "  <tbody>\n",
       "    <tr>\n",
       "      <th>0</th>\n",
       "      <td>tt0000001</td>\n",
       "      <td>5.7</td>\n",
       "      <td>1682</td>\n",
       "    </tr>\n",
       "    <tr>\n",
       "      <th>1</th>\n",
       "      <td>tt0000002</td>\n",
       "      <td>6.0</td>\n",
       "      <td>207</td>\n",
       "    </tr>\n",
       "    <tr>\n",
       "      <th>2</th>\n",
       "      <td>tt0000003</td>\n",
       "      <td>6.5</td>\n",
       "      <td>1419</td>\n",
       "    </tr>\n",
       "    <tr>\n",
       "      <th>3</th>\n",
       "      <td>tt0000004</td>\n",
       "      <td>6.1</td>\n",
       "      <td>121</td>\n",
       "    </tr>\n",
       "    <tr>\n",
       "      <th>4</th>\n",
       "      <td>tt0000005</td>\n",
       "      <td>6.1</td>\n",
       "      <td>2218</td>\n",
       "    </tr>\n",
       "  </tbody>\n",
       "</table>\n",
       "</div>"
      ],
      "text/plain": [
       "      tconst  averageRating  numVotes\n",
       "0  tt0000001            5.7      1682\n",
       "1  tt0000002            6.0       207\n",
       "2  tt0000003            6.5      1419\n",
       "3  tt0000004            6.1       121\n",
       "4  tt0000005            6.1      2218"
      ]
     },
     "execution_count": 4,
     "metadata": {},
     "output_type": "execute_result"
    },
    {
     "data": {
      "text/html": [
       "<div>\n",
       "<style scoped>\n",
       "    .dataframe tbody tr th:only-of-type {\n",
       "        vertical-align: middle;\n",
       "    }\n",
       "\n",
       "    .dataframe tbody tr th {\n",
       "        vertical-align: top;\n",
       "    }\n",
       "\n",
       "    .dataframe thead th {\n",
       "        text-align: right;\n",
       "    }\n",
       "</style>\n",
       "<table border=\"1\" class=\"dataframe\">\n",
       "  <thead>\n",
       "    <tr style=\"text-align: right;\">\n",
       "      <th></th>\n",
       "      <th>nconst</th>\n",
       "      <th>primaryName</th>\n",
       "      <th>birthYear</th>\n",
       "      <th>deathYear</th>\n",
       "      <th>primaryProfession</th>\n",
       "      <th>knownForTitles</th>\n",
       "    </tr>\n",
       "  </thead>\n",
       "  <tbody>\n",
       "    <tr>\n",
       "      <th>0</th>\n",
       "      <td>nm0000001</td>\n",
       "      <td>Fred Astaire</td>\n",
       "      <td>1899</td>\n",
       "      <td>1987</td>\n",
       "      <td>soundtrack,actor,miscellaneous</td>\n",
       "      <td>tt0031983,tt0053137,tt0050419,tt0072308</td>\n",
       "    </tr>\n",
       "    <tr>\n",
       "      <th>1</th>\n",
       "      <td>nm0000002</td>\n",
       "      <td>Lauren Bacall</td>\n",
       "      <td>1924</td>\n",
       "      <td>2014</td>\n",
       "      <td>actress,soundtrack</td>\n",
       "      <td>tt0117057,tt0038355,tt0071877,tt0037382</td>\n",
       "    </tr>\n",
       "    <tr>\n",
       "      <th>2</th>\n",
       "      <td>nm0000003</td>\n",
       "      <td>Brigitte Bardot</td>\n",
       "      <td>1934</td>\n",
       "      <td>\\N</td>\n",
       "      <td>actress,soundtrack,music_department</td>\n",
       "      <td>tt0054452,tt0049189,tt0057345,tt0056404</td>\n",
       "    </tr>\n",
       "    <tr>\n",
       "      <th>3</th>\n",
       "      <td>nm0000004</td>\n",
       "      <td>John Belushi</td>\n",
       "      <td>1949</td>\n",
       "      <td>1982</td>\n",
       "      <td>actor,soundtrack,writer</td>\n",
       "      <td>tt0072562,tt0080455,tt0078723,tt0077975</td>\n",
       "    </tr>\n",
       "    <tr>\n",
       "      <th>4</th>\n",
       "      <td>nm0000005</td>\n",
       "      <td>Ingmar Bergman</td>\n",
       "      <td>1918</td>\n",
       "      <td>2007</td>\n",
       "      <td>writer,director,actor</td>\n",
       "      <td>tt0050976,tt0060827,tt0069467,tt0050986</td>\n",
       "    </tr>\n",
       "  </tbody>\n",
       "</table>\n",
       "</div>"
      ],
      "text/plain": [
       "      nconst      primaryName birthYear deathYear  \\\n",
       "0  nm0000001     Fred Astaire      1899      1987   \n",
       "1  nm0000002    Lauren Bacall      1924      2014   \n",
       "2  nm0000003  Brigitte Bardot      1934        \\N   \n",
       "3  nm0000004     John Belushi      1949      1982   \n",
       "4  nm0000005   Ingmar Bergman      1918      2007   \n",
       "\n",
       "                     primaryProfession  \\\n",
       "0       soundtrack,actor,miscellaneous   \n",
       "1                   actress,soundtrack   \n",
       "2  actress,soundtrack,music_department   \n",
       "3              actor,soundtrack,writer   \n",
       "4                writer,director,actor   \n",
       "\n",
       "                            knownForTitles  \n",
       "0  tt0031983,tt0053137,tt0050419,tt0072308  \n",
       "1  tt0117057,tt0038355,tt0071877,tt0037382  \n",
       "2  tt0054452,tt0049189,tt0057345,tt0056404  \n",
       "3  tt0072562,tt0080455,tt0078723,tt0077975  \n",
       "4  tt0050976,tt0060827,tt0069467,tt0050986  "
      ]
     },
     "execution_count": 4,
     "metadata": {},
     "output_type": "execute_result"
    }
   ],
   "source": [
    "# Use the head() method to inspect the first five (or more) rows of the data\n",
    "imdb_title_basics.head()\n",
    "imdb_crew.head()\n",
    "imdb_ratings.head()\n",
    "imdb_name.head()"
   ]
  },
  {
   "cell_type": "code",
   "execution_count": 5,
   "metadata": {},
   "outputs": [
    {
     "data": {
      "text/html": [
       "<div>\n",
       "<style scoped>\n",
       "    .dataframe tbody tr th:only-of-type {\n",
       "        vertical-align: middle;\n",
       "    }\n",
       "\n",
       "    .dataframe tbody tr th {\n",
       "        vertical-align: top;\n",
       "    }\n",
       "\n",
       "    .dataframe thead th {\n",
       "        text-align: right;\n",
       "    }\n",
       "</style>\n",
       "<table border=\"1\" class=\"dataframe\">\n",
       "  <thead>\n",
       "    <tr style=\"text-align: right;\">\n",
       "      <th></th>\n",
       "      <th>tconst</th>\n",
       "      <th>titleType</th>\n",
       "      <th>primaryTitle</th>\n",
       "      <th>originalTitle</th>\n",
       "      <th>isAdult</th>\n",
       "      <th>startYear</th>\n",
       "      <th>endYear</th>\n",
       "      <th>runtimeMinutes</th>\n",
       "      <th>genres</th>\n",
       "    </tr>\n",
       "  </thead>\n",
       "  <tbody>\n",
       "    <tr>\n",
       "      <th>7625350</th>\n",
       "      <td>tt9916848</td>\n",
       "      <td>tvEpisode</td>\n",
       "      <td>Episode #3.17</td>\n",
       "      <td>Episode #3.17</td>\n",
       "      <td>0</td>\n",
       "      <td>2010</td>\n",
       "      <td>\\N</td>\n",
       "      <td>\\N</td>\n",
       "      <td>Action,Drama,Family</td>\n",
       "    </tr>\n",
       "    <tr>\n",
       "      <th>7625351</th>\n",
       "      <td>tt9916850</td>\n",
       "      <td>tvEpisode</td>\n",
       "      <td>Episode #3.19</td>\n",
       "      <td>Episode #3.19</td>\n",
       "      <td>0</td>\n",
       "      <td>2010</td>\n",
       "      <td>\\N</td>\n",
       "      <td>\\N</td>\n",
       "      <td>Action,Drama,Family</td>\n",
       "    </tr>\n",
       "    <tr>\n",
       "      <th>7625352</th>\n",
       "      <td>tt9916852</td>\n",
       "      <td>tvEpisode</td>\n",
       "      <td>Episode #3.20</td>\n",
       "      <td>Episode #3.20</td>\n",
       "      <td>0</td>\n",
       "      <td>2010</td>\n",
       "      <td>\\N</td>\n",
       "      <td>\\N</td>\n",
       "      <td>Action,Drama,Family</td>\n",
       "    </tr>\n",
       "    <tr>\n",
       "      <th>7625353</th>\n",
       "      <td>tt9916856</td>\n",
       "      <td>short</td>\n",
       "      <td>The Wind</td>\n",
       "      <td>The Wind</td>\n",
       "      <td>0</td>\n",
       "      <td>2015</td>\n",
       "      <td>\\N</td>\n",
       "      <td>27</td>\n",
       "      <td>Short</td>\n",
       "    </tr>\n",
       "    <tr>\n",
       "      <th>7625354</th>\n",
       "      <td>tt9916880</td>\n",
       "      <td>tvEpisode</td>\n",
       "      <td>Horrid Henry Knows It All</td>\n",
       "      <td>Horrid Henry Knows It All</td>\n",
       "      <td>0</td>\n",
       "      <td>2014</td>\n",
       "      <td>\\N</td>\n",
       "      <td>10</td>\n",
       "      <td>Animation,Comedy,Family</td>\n",
       "    </tr>\n",
       "  </tbody>\n",
       "</table>\n",
       "</div>"
      ],
      "text/plain": [
       "            tconst  titleType               primaryTitle  \\\n",
       "7625350  tt9916848  tvEpisode              Episode #3.17   \n",
       "7625351  tt9916850  tvEpisode              Episode #3.19   \n",
       "7625352  tt9916852  tvEpisode              Episode #3.20   \n",
       "7625353  tt9916856      short                   The Wind   \n",
       "7625354  tt9916880  tvEpisode  Horrid Henry Knows It All   \n",
       "\n",
       "                     originalTitle isAdult startYear endYear runtimeMinutes  \\\n",
       "7625350              Episode #3.17       0      2010      \\N             \\N   \n",
       "7625351              Episode #3.19       0      2010      \\N             \\N   \n",
       "7625352              Episode #3.20       0      2010      \\N             \\N   \n",
       "7625353                   The Wind       0      2015      \\N             27   \n",
       "7625354  Horrid Henry Knows It All       0      2014      \\N             10   \n",
       "\n",
       "                          genres  \n",
       "7625350      Action,Drama,Family  \n",
       "7625351      Action,Drama,Family  \n",
       "7625352      Action,Drama,Family  \n",
       "7625353                    Short  \n",
       "7625354  Animation,Comedy,Family  "
      ]
     },
     "execution_count": 5,
     "metadata": {},
     "output_type": "execute_result"
    },
    {
     "data": {
      "text/html": [
       "<div>\n",
       "<style scoped>\n",
       "    .dataframe tbody tr th:only-of-type {\n",
       "        vertical-align: middle;\n",
       "    }\n",
       "\n",
       "    .dataframe tbody tr th {\n",
       "        vertical-align: top;\n",
       "    }\n",
       "\n",
       "    .dataframe thead th {\n",
       "        text-align: right;\n",
       "    }\n",
       "</style>\n",
       "<table border=\"1\" class=\"dataframe\">\n",
       "  <thead>\n",
       "    <tr style=\"text-align: right;\">\n",
       "      <th></th>\n",
       "      <th>tconst</th>\n",
       "      <th>directors</th>\n",
       "      <th>writers</th>\n",
       "    </tr>\n",
       "  </thead>\n",
       "  <tbody>\n",
       "    <tr>\n",
       "      <th>7625350</th>\n",
       "      <td>tt9916848</td>\n",
       "      <td>nm5519454,nm5519375</td>\n",
       "      <td>nm6182221,nm1628284,nm2921377</td>\n",
       "    </tr>\n",
       "    <tr>\n",
       "      <th>7625351</th>\n",
       "      <td>tt9916850</td>\n",
       "      <td>nm5519454,nm5519375</td>\n",
       "      <td>nm6182221,nm1628284,nm2921377</td>\n",
       "    </tr>\n",
       "    <tr>\n",
       "      <th>7625352</th>\n",
       "      <td>tt9916852</td>\n",
       "      <td>nm5519375,nm5519454</td>\n",
       "      <td>nm6182221,nm1628284,nm2921377</td>\n",
       "    </tr>\n",
       "    <tr>\n",
       "      <th>7625353</th>\n",
       "      <td>tt9916856</td>\n",
       "      <td>nm10538645</td>\n",
       "      <td>nm6951431</td>\n",
       "    </tr>\n",
       "    <tr>\n",
       "      <th>7625354</th>\n",
       "      <td>tt9916880</td>\n",
       "      <td>nm0996406</td>\n",
       "      <td>nm1482639,nm2586970</td>\n",
       "    </tr>\n",
       "  </tbody>\n",
       "</table>\n",
       "</div>"
      ],
      "text/plain": [
       "            tconst            directors                        writers\n",
       "7625350  tt9916848  nm5519454,nm5519375  nm6182221,nm1628284,nm2921377\n",
       "7625351  tt9916850  nm5519454,nm5519375  nm6182221,nm1628284,nm2921377\n",
       "7625352  tt9916852  nm5519375,nm5519454  nm6182221,nm1628284,nm2921377\n",
       "7625353  tt9916856           nm10538645                      nm6951431\n",
       "7625354  tt9916880            nm0996406            nm1482639,nm2586970"
      ]
     },
     "execution_count": 5,
     "metadata": {},
     "output_type": "execute_result"
    },
    {
     "data": {
      "text/html": [
       "<div>\n",
       "<style scoped>\n",
       "    .dataframe tbody tr th:only-of-type {\n",
       "        vertical-align: middle;\n",
       "    }\n",
       "\n",
       "    .dataframe tbody tr th {\n",
       "        vertical-align: top;\n",
       "    }\n",
       "\n",
       "    .dataframe thead th {\n",
       "        text-align: right;\n",
       "    }\n",
       "</style>\n",
       "<table border=\"1\" class=\"dataframe\">\n",
       "  <thead>\n",
       "    <tr style=\"text-align: right;\">\n",
       "      <th></th>\n",
       "      <th>tconst</th>\n",
       "      <th>averageRating</th>\n",
       "      <th>numVotes</th>\n",
       "    </tr>\n",
       "  </thead>\n",
       "  <tbody>\n",
       "    <tr>\n",
       "      <th>1124542</th>\n",
       "      <td>tt9916580</td>\n",
       "      <td>7.2</td>\n",
       "      <td>5</td>\n",
       "    </tr>\n",
       "    <tr>\n",
       "      <th>1124543</th>\n",
       "      <td>tt9916690</td>\n",
       "      <td>6.6</td>\n",
       "      <td>5</td>\n",
       "    </tr>\n",
       "    <tr>\n",
       "      <th>1124544</th>\n",
       "      <td>tt9916720</td>\n",
       "      <td>6.2</td>\n",
       "      <td>72</td>\n",
       "    </tr>\n",
       "    <tr>\n",
       "      <th>1124545</th>\n",
       "      <td>tt9916766</td>\n",
       "      <td>6.9</td>\n",
       "      <td>16</td>\n",
       "    </tr>\n",
       "    <tr>\n",
       "      <th>1124546</th>\n",
       "      <td>tt9916778</td>\n",
       "      <td>7.5</td>\n",
       "      <td>27</td>\n",
       "    </tr>\n",
       "  </tbody>\n",
       "</table>\n",
       "</div>"
      ],
      "text/plain": [
       "            tconst  averageRating  numVotes\n",
       "1124542  tt9916580            7.2         5\n",
       "1124543  tt9916690            6.6         5\n",
       "1124544  tt9916720            6.2        72\n",
       "1124545  tt9916766            6.9        16\n",
       "1124546  tt9916778            7.5        27"
      ]
     },
     "execution_count": 5,
     "metadata": {},
     "output_type": "execute_result"
    },
    {
     "data": {
      "text/html": [
       "<div>\n",
       "<style scoped>\n",
       "    .dataframe tbody tr th:only-of-type {\n",
       "        vertical-align: middle;\n",
       "    }\n",
       "\n",
       "    .dataframe tbody tr th {\n",
       "        vertical-align: top;\n",
       "    }\n",
       "\n",
       "    .dataframe thead th {\n",
       "        text-align: right;\n",
       "    }\n",
       "</style>\n",
       "<table border=\"1\" class=\"dataframe\">\n",
       "  <thead>\n",
       "    <tr style=\"text-align: right;\">\n",
       "      <th></th>\n",
       "      <th>nconst</th>\n",
       "      <th>primaryName</th>\n",
       "      <th>birthYear</th>\n",
       "      <th>deathYear</th>\n",
       "      <th>primaryProfession</th>\n",
       "      <th>knownForTitles</th>\n",
       "    </tr>\n",
       "  </thead>\n",
       "  <tbody>\n",
       "    <tr>\n",
       "      <th>10722112</th>\n",
       "      <td>nm9993714</td>\n",
       "      <td>Romeo del Rosario</td>\n",
       "      <td>\\N</td>\n",
       "      <td>\\N</td>\n",
       "      <td>animation_department,art_department</td>\n",
       "      <td>tt2455546</td>\n",
       "    </tr>\n",
       "    <tr>\n",
       "      <th>10722113</th>\n",
       "      <td>nm9993716</td>\n",
       "      <td>Essias Loberg</td>\n",
       "      <td>\\N</td>\n",
       "      <td>\\N</td>\n",
       "      <td>NaN</td>\n",
       "      <td>\\N</td>\n",
       "    </tr>\n",
       "    <tr>\n",
       "      <th>10722114</th>\n",
       "      <td>nm9993717</td>\n",
       "      <td>Harikrishnan Rajan</td>\n",
       "      <td>\\N</td>\n",
       "      <td>\\N</td>\n",
       "      <td>cinematographer</td>\n",
       "      <td>tt8736744</td>\n",
       "    </tr>\n",
       "    <tr>\n",
       "      <th>10722115</th>\n",
       "      <td>nm9993718</td>\n",
       "      <td>Aayush Nair</td>\n",
       "      <td>\\N</td>\n",
       "      <td>\\N</td>\n",
       "      <td>cinematographer</td>\n",
       "      <td>\\N</td>\n",
       "    </tr>\n",
       "    <tr>\n",
       "      <th>10722116</th>\n",
       "      <td>nm9993719</td>\n",
       "      <td>Andre Hill</td>\n",
       "      <td>\\N</td>\n",
       "      <td>\\N</td>\n",
       "      <td>NaN</td>\n",
       "      <td>\\N</td>\n",
       "    </tr>\n",
       "  </tbody>\n",
       "</table>\n",
       "</div>"
      ],
      "text/plain": [
       "             nconst         primaryName birthYear deathYear  \\\n",
       "10722112  nm9993714   Romeo del Rosario        \\N        \\N   \n",
       "10722113  nm9993716       Essias Loberg        \\N        \\N   \n",
       "10722114  nm9993717  Harikrishnan Rajan        \\N        \\N   \n",
       "10722115  nm9993718         Aayush Nair        \\N        \\N   \n",
       "10722116  nm9993719          Andre Hill        \\N        \\N   \n",
       "\n",
       "                            primaryProfession knownForTitles  \n",
       "10722112  animation_department,art_department      tt2455546  \n",
       "10722113                                  NaN             \\N  \n",
       "10722114                      cinematographer      tt8736744  \n",
       "10722115                      cinematographer             \\N  \n",
       "10722116                                  NaN             \\N  "
      ]
     },
     "execution_count": 5,
     "metadata": {},
     "output_type": "execute_result"
    }
   ],
   "source": [
    "# Use the tail() method to inspect the last five (or more) rows of the data\n",
    "imdb_title_basics.tail()\n",
    "imdb_crew.tail()\n",
    "imdb_ratings.tail()\n",
    "imdb_name.tail()"
   ]
  },
  {
   "cell_type": "markdown",
   "metadata": {},
   "source": [
    "<div class=\"alert alert-block alert-danger\"><b>STOP HERE for your Project Proposal assignment. Submit your (1) original data file(s) along with (2) the completed notebook up to this point, and (3) the html file for grading and approval.</b></div>"
   ]
  },
  {
   "cell_type": "markdown",
   "metadata": {},
   "source": [
    "<div class=\"alert alert-block alert-warning\"><b>Instructor Feedback and Approval (3 pts)</b>: Your instructor will provide feedback in either the cell below this or via Canvas. You can expect one of the following point values for this portion.\n",
    "\n",
    "<b>3 pts</b> - if your project goals and data set are both approved.<br>\n",
    "<b>2 pts</b> - if your data set is approved but changes to your project goals (Step 3) are needed.<br>\n",
    "<b>1 pt</b> - if your project goals are approved but your data set is not approved.<br>\n",
    "<b>0 pts</b> - if neither your data set nor your project goals are approved.<br><br>\n",
    "    \n",
    "<i><u>As needed, follow your instructor's feeback and guidance to get on track for the remaining portions of the EDA project.</u></i>\n",
    "</div>"
   ]
  },
  {
   "cell_type": "markdown",
   "metadata": {},
   "source": [
    "# EDA Phase 1"
   ]
  },
  {
   "cell_type": "markdown",
   "metadata": {},
   "source": [
    "<div class=\"alert alert-block alert-info\">The overall goal of this assignment is to take all necessary steps to inspect the quality of your data and prepare the data according to your needs. For information and resources on the process of Exploratory Data Analysis (EDA), you should explore the <b><u>EDA Project Resources Module</u></b> in Canvas.\n",
    "\n",
    "Once you’ve read through the information provided in that module and have a comfortable understanding of EDA using Python, complete steps 6 through 10 listed below to satisfy the requirements for your EDA Phase 1 assignment. **Remember to convert code cells provided to markdown cells for any typed responses to questions.**</div>"
   ]
  },
  {
   "cell_type": "markdown",
   "metadata": {},
   "source": [
    "<div class=\"alert alert-block alert-success\"><b>Step 6 (2 pts)</b>: Begin by elaborating in more detail from the previous assignment on why you chose this data?<br>\n",
    "    \n",
    "1. Explain what you hope to learn from this data. \n",
    "2. Do you have a hunch about what this data will reveal? (The answer to this question will be used in the Introduction section of your EDA report.)\n",
    "</div>"
   ]
  },
  {
   "cell_type": "markdown",
   "metadata": {},
   "source": [
    "We hope to learn about the perceived popularity of true crime media in recent years and whether this is driving an increase in true crime documentaries or if there are factors contributing. The sample questions we hope to learn: \n",
    "\n",
    "* Is it true that True Crime has become more popular over time?\n",
    "* Has there been a change in volume of media and/or documentaries in general?\n",
    "    * Could this just be the result of media content increasing overall?\n",
    "    * Could this just be the result of documenatires as a genre increasing overall? \n",
    "* Has popularity of documentaries changed over time? How does this compare to other genres?\n",
    "* Is there a correlation between release date and it's popularity?\n",
    "* Are there correlations between popularity and the crew? For example, is a particular director scoring higher votes and ratings?\n",
    "\n",
    "Our hunch is that there has been both an increase in volume of media overall and in the genre. However, we believe that the genre is growing faster in popularity over time than other genres.  "
   ]
  },
  {
   "cell_type": "markdown",
   "metadata": {},
   "source": [
    "<div class=\"alert alert-block alert-success\"><b>Step 7 (2 pts)</b>: Discuss the popluation and the sample:<br>\n",
    "    \n",
    "1. What is the population being represented by the data you’ve chosen? \n",
    "2. What is the total sample size?\n",
    "</div>"
   ]
  },
  {
   "cell_type": "markdown",
   "metadata": {},
   "source": [
    "### Kathleen\n",
    "\n",
    "Use the ones with title, rating, and average rating only? Assuming most common movies will have this populated. \n",
    "Code cell: population and sample size, drop the nulls, if none of the fields are available\n",
    "\n",
    "total population: unique to tconst\n",
    "sample population: whatever titles are filled in with each of the required fields (title, rating, and average rating only) & no null values\n",
    "\n"
   ]
  },
  {
   "cell_type": "markdown",
   "metadata": {},
   "source": [
    "<div class=\"alert alert-block alert-success\"><b>Step 8 (2 pts)</b>: Describe how the data was collected. For example, is this a random sample? Are sampling weights used with the data?</div>"
   ]
  },
  {
   "cell_type": "markdown",
   "metadata": {},
   "source": [
    "##### Question 8\n",
    "\n",
    "The data that we have researched was provided by IMDB. IMDB is a website that includes many attributes of movies and tv shows. IMBD gathers data through many sources such as movie credits, interviews, press releases, etc. Due to the open nature of the website, a lot of the data is also entered through people in the industry or people visiting the site. To ensure accurate data, IMDB enforces regular quality checks. \n",
    "\n",
    "These datasets are not a random sample and no sample weights were used with the data. \n",
    "\n",
    "\n",
    "Sources:\n",
    "\n",
    "https://help.imdb.com/article/imdb/general-information/where-does-the-information-on-imdb-come-from/GGD7NGF5X3ECFKNN?ref_=helpart_nav_24#\n"
   ]
  },
  {
   "cell_type": "markdown",
   "metadata": {},
   "source": [
    "<div class=\"alert alert-block alert-success\"><b>Step 9 (4 pts)</b>: In the Project Proposal assignment you used the info(&nbsp;) method to inspect the variables, their data types, and the number of non-null values. Using that information as a guide, provide definitions of each of your variables and their corresponding data types, i.e. a data dictionary. Also indicate which variables will be used for your purposes.</div>"
   ]
  },
  {
   "cell_type": "code",
   "execution_count": 7,
   "metadata": {},
   "outputs": [
    {
     "data": {
      "text/html": [
       "<div>\n",
       "<style scoped>\n",
       "    .dataframe tbody tr th:only-of-type {\n",
       "        vertical-align: middle;\n",
       "    }\n",
       "\n",
       "    .dataframe tbody tr th {\n",
       "        vertical-align: top;\n",
       "    }\n",
       "\n",
       "    .dataframe thead th {\n",
       "        text-align: right;\n",
       "    }\n",
       "</style>\n",
       "<table border=\"1\" class=\"dataframe\">\n",
       "  <thead>\n",
       "    <tr style=\"text-align: right;\">\n",
       "      <th></th>\n",
       "      <th>Variable Name</th>\n",
       "      <th>Data Type</th>\n",
       "      <th>Definition</th>\n",
       "    </tr>\n",
       "  </thead>\n",
       "  <tbody>\n",
       "    <tr>\n",
       "      <th>0</th>\n",
       "      <td>tconst</td>\n",
       "      <td>string object</td>\n",
       "      <td>title ID</td>\n",
       "    </tr>\n",
       "    <tr>\n",
       "      <th>1</th>\n",
       "      <td>primaryTitle</td>\n",
       "      <td>string object</td>\n",
       "      <td>media title</td>\n",
       "    </tr>\n",
       "    <tr>\n",
       "      <th>2</th>\n",
       "      <td>startYear</td>\n",
       "      <td>string object</td>\n",
       "      <td>Release Year</td>\n",
       "    </tr>\n",
       "    <tr>\n",
       "      <th>3</th>\n",
       "      <td>genre</td>\n",
       "      <td>string object</td>\n",
       "      <td>Genre</td>\n",
       "    </tr>\n",
       "    <tr>\n",
       "      <th>4</th>\n",
       "      <td>nconst</td>\n",
       "      <td>string object</td>\n",
       "      <td>Name ID</td>\n",
       "    </tr>\n",
       "    <tr>\n",
       "      <th>5</th>\n",
       "      <td>averageRating</td>\n",
       "      <td>float</td>\n",
       "      <td>media rating</td>\n",
       "    </tr>\n",
       "    <tr>\n",
       "      <th>6</th>\n",
       "      <td>numVotes</td>\n",
       "      <td>integer</td>\n",
       "      <td>media votes</td>\n",
       "    </tr>\n",
       "    <tr>\n",
       "      <th>7</th>\n",
       "      <td>primaryName</td>\n",
       "      <td>string object</td>\n",
       "      <td>directors name</td>\n",
       "    </tr>\n",
       "    <tr>\n",
       "      <th>8</th>\n",
       "      <td>titleType</td>\n",
       "      <td>string object</td>\n",
       "      <td>type of media</td>\n",
       "    </tr>\n",
       "  </tbody>\n",
       "</table>\n",
       "</div>"
      ],
      "text/plain": [
       "   Variable Name      Data Type      Definition\n",
       "0         tconst  string object        title ID\n",
       "1   primaryTitle  string object     media title\n",
       "2      startYear  string object    Release Year\n",
       "3          genre  string object           Genre\n",
       "4         nconst  string object         Name ID\n",
       "5  averageRating          float    media rating\n",
       "6       numVotes        integer     media votes\n",
       "7    primaryName  string object  directors name\n",
       "8      titleType  string object   type of media"
      ]
     },
     "execution_count": 7,
     "metadata": {},
     "output_type": "execute_result"
    },
    {
     "data": {
      "text/html": [
       "<div>\n",
       "<style scoped>\n",
       "    .dataframe tbody tr th:only-of-type {\n",
       "        vertical-align: middle;\n",
       "    }\n",
       "\n",
       "    .dataframe tbody tr th {\n",
       "        vertical-align: top;\n",
       "    }\n",
       "\n",
       "    .dataframe thead th {\n",
       "        text-align: right;\n",
       "    }\n",
       "</style>\n",
       "<table border=\"1\" class=\"dataframe\">\n",
       "  <thead>\n",
       "    <tr style=\"text-align: right;\">\n",
       "      <th></th>\n",
       "      <th>Variable Name</th>\n",
       "      <th>Data Type</th>\n",
       "      <th>Definition</th>\n",
       "    </tr>\n",
       "  </thead>\n",
       "  <tbody>\n",
       "    <tr>\n",
       "      <th>0</th>\n",
       "      <td>directorName</td>\n",
       "      <td>string object</td>\n",
       "      <td>directors name</td>\n",
       "    </tr>\n",
       "    <tr>\n",
       "      <th>1</th>\n",
       "      <td>directorID</td>\n",
       "      <td>string object</td>\n",
       "      <td>directors id</td>\n",
       "    </tr>\n",
       "    <tr>\n",
       "      <th>2</th>\n",
       "      <td>tconst</td>\n",
       "      <td>string object</td>\n",
       "      <td>title ID</td>\n",
       "    </tr>\n",
       "    <tr>\n",
       "      <th>3</th>\n",
       "      <td>startYear</td>\n",
       "      <td>string object</td>\n",
       "      <td>Release Year</td>\n",
       "    </tr>\n",
       "    <tr>\n",
       "      <th>4</th>\n",
       "      <td>isTrueCrime</td>\n",
       "      <td>boolean</td>\n",
       "      <td>whether the title is true crime or not</td>\n",
       "    </tr>\n",
       "    <tr>\n",
       "      <th>5</th>\n",
       "      <td>averageRating</td>\n",
       "      <td>float</td>\n",
       "      <td>media rating</td>\n",
       "    </tr>\n",
       "    <tr>\n",
       "      <th>6</th>\n",
       "      <td>numVotes</td>\n",
       "      <td>integer</td>\n",
       "      <td>media votes</td>\n",
       "    </tr>\n",
       "  </tbody>\n",
       "</table>\n",
       "</div>"
      ],
      "text/plain": [
       "   Variable Name      Data Type                              Definition\n",
       "0   directorName  string object                          directors name\n",
       "1     directorID  string object                            directors id\n",
       "2         tconst  string object                                title ID\n",
       "3      startYear  string object                            Release Year\n",
       "4    isTrueCrime        boolean  whether the title is true crime or not\n",
       "5  averageRating          float                            media rating\n",
       "6       numVotes        integer                             media votes"
      ]
     },
     "execution_count": 7,
     "metadata": {},
     "output_type": "execute_result"
    }
   ],
   "source": [
    "titles = {'Variable Name': ['tconst','primaryTitle','startYear','genre', 'nconst', 'averageRating', 'numVotes',  'primaryName', 'titleType'],\n",
    "        'Data Type': ['string object','string object','string object','string object', 'string object', 'float', 'integer', 'string object', 'string object'],\n",
    "        'Definition': ['title ID', 'media title', 'Release Year', 'Genre', 'Name ID', 'media rating', 'media votes', 'director''s name', 'type of media']\n",
    "        }\n",
    "\n",
    "title_df = pd.DataFrame(titles, columns = ['Variable Name', 'Data Type', 'Definition'])\n",
    "\n",
    "title_df\n",
    "\n",
    "director = {'Variable Name': ['directorName','directorID','tconst','startYear', 'isTrueCrime', 'averageRating', 'numVotes'],\n",
    "        'Data Type': ['string object','string object','string object','string object', 'boolean', 'float', 'integer'],\n",
    "        'Definition': ['director''s name', 'director''s id', 'title ID', 'Release Year', 'whether the title is true crime or not', 'media rating', 'media votes']\n",
    "        }\n",
    "\n",
    "director_df = pd.DataFrame(director, columns = ['Variable Name', 'Data Type', 'Definition'])\n",
    "\n",
    "director_df"
   ]
  },
  {
   "cell_type": "markdown",
   "metadata": {},
   "source": [
    "<div class=\"alert alert-block alert-success\"><b>Step 10 (10 pts)</b>: For full credit in this problem you'll want to <i><u>take all necessary steps to report on the quality of the data</u></i> and <i><u>clean the data accordingly</u></i>. Some things to consider while doing this are listed below. <b>Depending on your data and goals, there may be additional steps needed than those listed here.</b>\n",
    "    \n",
    "1. Are there rows with missing or inconsistent values? If so, eliminate those rows from your data where appropriate.\n",
    "2. Are there any outliers or duplicate rows? If so, eliminate those rows from your data where appropriate. \n",
    "At each stage of cleaning the data, state how many rows were eliminated.\n",
    "3. Are you using all columns (variables) in the data? If not, are you eliminating those columns?\n",
    "4. Consider some type of visual display such as a boxplot to determine any outliers. Do any outliers need removed? If so, how many were removed?\n",
    "\n",
    "At each stage of cleaning the data, state how many rows were eliminated. <b><u><i>It is good practice to get the shape of the data before and after each step in cleaning the data and add typed explanations (in separate markdown cells) of the steps taken to clean the data.</i></u></b><br></div>\n",
    "    \n",
    "<div class=\"alert alert-block alert-info\">Include the rest of your work below and insert cells where needed.</div>"
   ]
  },
  {
   "cell_type": "markdown",
   "metadata": {},
   "source": [
    "_Notes:_ \n",
    "- smaller scope of items by year and title type\n",
    "- focus set of columns\n",
    "- merge the data set\n",
    "\n",
    "- check how many directors in the list: make into unique column for their names?\n",
    "- only titles with ratings, votes, and directors ?\n",
    "- check how many genres in the list: make unique column for their names?\n",
    "    - if true crime is included"
   ]
  },
  {
   "cell_type": "markdown",
   "metadata": {},
   "source": [
    "#### Genre Cleanup - Step 1\n",
    "\n",
    "* Add a column with a boolean datatype where it's True if the genre field contains both 'documentary' or 'crime', case insensitive\n",
    "* Count the number of true crime documentaries in the dataset.\n",
    "* Display the percent of true crime documentaries in the dataset"
   ]
  },
  {
   "cell_type": "code",
   "execution_count": null,
   "metadata": {},
   "outputs": [],
   "source": [
    "## Add a column \"IsTrueCrime\"\n",
    "imdb_title_basics['isTrueCrime'] = (imdb_title_basics.genres.str.contains('crime', \n",
    "                flags=re.IGNORECASE, na=False)) & (imdb_title_basics.genres.str.contains('documentary', \n",
    "                flags=re.IGNORECASE, na=False))"
   ]
  },
  {
   "cell_type": "code",
   "execution_count": null,
   "metadata": {},
   "outputs": [],
   "source": [
    "TrueCrimeCount = len(imdb_title_basics[imdb_title_basics[\"isTrueCrime\"]])  ## count the number of True items in IsTrueCrime\n",
    "\n",
    "print(f'The total number of titles in the dataset is {len(imdb_title_basics)}.')\n",
    "\n",
    "print(f'''The number of True Crime documentaries in the dataset is {TrueCrimeCount}, which is {round(TrueCrimeCount/len(imdb_title_basics), 3)}% of the total titles.''')"
   ]
  },
  {
   "cell_type": "markdown",
   "metadata": {},
   "source": [
    "#### Director Cleanup - Step 2\n",
    "\n",
    "We're trying to answer: \"Are there correlations between popularity and the crew? For example, is a particular director scoring higher votes and ratings?\"\n",
    "\n",
    "We considered breaking out the director column into separate fields, so there was only one director per column.  \n",
    "First, we checked whether this was practical by checking for the max number of directors in the imdb_crew dataset:"
   ]
  },
  {
   "cell_type": "code",
   "execution_count": null,
   "metadata": {},
   "outputs": [],
   "source": [
    "a = 0 # instantiate a\n",
    "b = 0 # instantiate b\n",
    "\n",
    "for i in imdb_crew.index:  # loop through the crew table's index\n",
    "    if len(imdb_crew.directors[i].split(\",\")) > a: # check to see if the current director count is greater than the last\n",
    "        a, b = len(imdb_crew.directors[i].split(\",\")), i # save the director count and index id to a and b\n",
    "\n",
    "print(f'The title with the most number of directors has an index id of {b} in the crew table and it has {a} directors. See below for more details.')\n",
    "\n",
    "imdb_title_basics[imdb_title_basics.tconst == imdb_crew.tconst[b]]"
   ]
  },
  {
   "cell_type": "markdown",
   "metadata": {},
   "source": [
    "Given that the max number of directors in the dataset is so large (though this could be an outlier), we don't think it's practical to separate them out into separate columns.  Instead we should build a director table consisting of:\n",
    "\n",
    "* directorName (imdb_name.primaryName)\n",
    "* directorID (imdb_crew.directors)\n",
    "* tconst (imdb_crew.tconst)\n",
    "* startYear (imdb_title_basics.startYear)\n",
    "* isTrueCrime (imdb_title_basics.IsTrueCrime)\n",
    "* averageRating (imdb_ratings.averageRating)\n",
    "* numVotes (imdb_ratings.numVotes)\n",
    "\n",
    "With this dataset, we can determine whether the average rating, weighted by the number of votes, is positively correlated with the director.  We will also be able to group by whether the titles are True Crime or not.\n",
    "\n",
    "Next, prepare the data so that we can have a \"director\" dataframe with a single director per row.  For the directors column, we need the string with the director IDs to be a list."
   ]
  },
  {
   "cell_type": "code",
   "execution_count": null,
   "metadata": {
    "scrolled": true
   },
   "outputs": [],
   "source": [
    "#Convert the directors column, which is currently a string object, to a list and assign the result to a new column\n",
    "print(type(imdb_crew.directors[0])) #confirm the type of the directors column\n",
    "\n",
    "imdb_crew['directors_list'] = imdb_crew['directors'].str.split(',')\n",
    "# split the directors string into a list and create a new column from it\n",
    "\n",
    "imdb_crew.tail()"
   ]
  },
  {
   "cell_type": "markdown",
   "metadata": {},
   "source": [
    "Next \"explode\" the crew data so that each row is an individual director"
   ]
  },
  {
   "cell_type": "code",
   "execution_count": null,
   "metadata": {},
   "outputs": [],
   "source": [
    "directors = imdb_crew.explode('directors_list').drop(columns=['directors', 'writers'], inplace=False)\n",
    "# https://pandas.pydata.org/pandas-docs/stable/reference/api/pandas.DataFrame.explode.html\n",
    "# this will create a new dataframe where each row is an individual director.  We drop the directors and \n",
    "# writers columns\n",
    "\n",
    "directors.rename(columns={\"directors_list\": \"director\"}, inplace = True) \n",
    "# rename the directors_list column to \"director\" since it's no longer a list\n",
    "\n",
    "directors.tail()"
   ]
  },
  {
   "cell_type": "markdown",
   "metadata": {},
   "source": [
    "Create the final directors dataframe by merging data from imbd_name, imdb_title_basics and imdb_ratings.  Print the number of shape of the dataframe before and after each merge: use a left merge (`how='left'`) so we can clean the dataframe appropriately later.\n",
    "\n",
    "https://pandas.pydata.org/pandas-docs/stable/reference/api/pandas.DataFrame.merge.html"
   ]
  },
  {
   "cell_type": "code",
   "execution_count": null,
   "metadata": {
    "scrolled": false
   },
   "outputs": [],
   "source": [
    "print(f'The original dataframe has a shape of {directors.shape}')\n",
    "\n",
    "# Merge in the director's name and drop the redundant nconst field\n",
    "directors = pd.merge(directors, imdb_name[['nconst','primaryName']], left_on = 'director', right_on = 'nconst', how='left').drop(columns=['nconst'], inplace = False)\n",
    "print(f'After merging in data from the imdb_name dataframe, directors has a shape of {directors.shape}')\n",
    "\n",
    "# Merge in the IsTrueCrime field\n",
    "directors = pd.merge(directors, imdb_title_basics[['tconst','isTrueCrime', 'startYear']], on = 'tconst', how='left')\n",
    "print(f'After merging in data from the imdb_title_basics dataframe, directors has a shape of {directors.shape}')\n",
    "\n",
    "# Merge in the averageRating and numVotes fields\n",
    "directors = pd.merge(directors, imdb_ratings[['tconst','averageRating', 'numVotes']], on = 'tconst', how='left')\n",
    "print(f'After merging in data from the imdb_ratings dataframe, directors has a shape of {directors.shape}')\n",
    "\n",
    "directors.tail()"
   ]
  },
  {
   "cell_type": "markdown",
   "metadata": {},
   "source": [
    "#### Titles Cleanup - Step 3\n",
    "\n",
    "In this step we will focus on dropping nulls, uncessary columns, and uncessary values in the columns. \n",
    "\n",
    "First, we will create a working copy of the title basics called media_titles. Then we will remove the nulls for the titles and genres."
   ]
  },
  {
   "cell_type": "code",
   "execution_count": null,
   "metadata": {},
   "outputs": [],
   "source": [
    "media_titles = imdb_title_basics #Create new table for analysis\n",
    "media_titles.shape  #This is the original population size"
   ]
  },
  {
   "cell_type": "code",
   "execution_count": null,
   "metadata": {},
   "outputs": [],
   "source": [
    "null_ptitles = media_titles[media_titles.primaryTitle.isnull()]\n",
    "null_ptitles"
   ]
  },
  {
   "cell_type": "code",
   "execution_count": null,
   "metadata": {},
   "outputs": [],
   "source": [
    "null_otitles = media_titles[media_titles.originalTitle.isnull()]\n",
    "null_otitles"
   ]
  },
  {
   "cell_type": "code",
   "execution_count": null,
   "metadata": {},
   "outputs": [],
   "source": [
    "media_titles = media_titles.drop(null_ptitles.index)  \n",
    "media_titles.shape "
   ]
  },
  {
   "cell_type": "markdown",
   "metadata": {},
   "source": [
    "This only removed 8 titles. "
   ]
  },
  {
   "cell_type": "code",
   "execution_count": null,
   "metadata": {},
   "outputs": [],
   "source": [
    "null_genres = media_titles[media_titles.genres.isnull()]\n",
    "media_titles = media_titles.drop(null_genres.index)\n",
    "media_titles.shape"
   ]
  },
  {
   "cell_type": "markdown",
   "metadata": {},
   "source": [
    "This ended up removing 10 titles."
   ]
  },
  {
   "cell_type": "code",
   "execution_count": null,
   "metadata": {
    "scrolled": true
   },
   "outputs": [],
   "source": [
    "media_titles.isnull().sum() #recheck and display the number of missing values in each column"
   ]
  },
  {
   "cell_type": "markdown",
   "metadata": {},
   "source": [
    "After reviewing the results, we noticied there are other values associated as null in our dataset like \\N or NaN. We will come back to address those. \n",
    "\n",
    "Now, we will drop the unnecessary columns for our analysis and merge in the average ratings and number of votes. We did not see use for if the title is for adults, what the end year is, the run time minutes, or what the original title was. This will drop 4 columns, but also add in 2 from the ratings dataset."
   ]
  },
  {
   "cell_type": "code",
   "execution_count": null,
   "metadata": {},
   "outputs": [],
   "source": [
    "media_titles = media_titles.drop(columns=['isAdult','endYear','runtimeMinutes','originalTitle'], inplace=False)\n",
    "media_titles.info()                                 "
   ]
  },
  {
   "cell_type": "code",
   "execution_count": null,
   "metadata": {},
   "outputs": [],
   "source": [
    "media_titles.shape"
   ]
  },
  {
   "cell_type": "code",
   "execution_count": null,
   "metadata": {},
   "outputs": [],
   "source": [
    "#merge the average ratings and votes\n",
    "media_titles = pd.merge(media_titles, imdb_ratings[['tconst','averageRating', 'numVotes']], on = 'tconst', how='left')"
   ]
  },
  {
   "cell_type": "code",
   "execution_count": null,
   "metadata": {},
   "outputs": [],
   "source": [
    "media_titles.info()"
   ]
  },
  {
   "cell_type": "markdown",
   "metadata": {},
   "source": [
    "Next, we will remove titles that are out of scope for analysis. We will not be looking at indivudal TV epsiodes, audiobooks, radio series', video games, or other episodes. "
   ]
  },
  {
   "cell_type": "code",
   "execution_count": null,
   "metadata": {},
   "outputs": [],
   "source": [
    "media_titles.titleType.value_counts()"
   ]
  },
  {
   "cell_type": "code",
   "execution_count": null,
   "metadata": {},
   "outputs": [],
   "source": [
    "#remove tvEpisodes,videogame,radioSeries,audiobook,episode becasue they aren't relevant. For example, tvEpisode is just a subset of a tvSeries.\n",
    "\n",
    "indextype1 = media_titles[media_titles.titleType == 'episode'].index\n",
    "media_titles = media_titles.drop(indextype1)\n",
    "\n",
    "indextype2 = media_titles[media_titles.titleType == 'audiobook'].index\n",
    "media_titles = media_titles.drop(indextype2)\n",
    "\n",
    "indextype3 = media_titles[media_titles.titleType == 'radioSeries'].index\n",
    "media_titles = media_titles.drop(indextype3)\n",
    "\n",
    "indextype4 = media_titles[media_titles.titleType == 'videoGame'].index\n",
    "media_titles = media_titles.drop(indextype4)\n",
    "\n",
    "indextype5 = media_titles[media_titles.titleType == 'tvEpisode'].index\n",
    "media_titles = media_titles.drop(indextype5)\n"
   ]
  },
  {
   "cell_type": "code",
   "execution_count": null,
   "metadata": {},
   "outputs": [],
   "source": [
    "media_titles.titleType.value_counts()"
   ]
  },
  {
   "cell_type": "code",
   "execution_count": null,
   "metadata": {},
   "outputs": [],
   "source": [
    "media_titles.shape #From 7631524 to 2067987"
   ]
  },
  {
   "cell_type": "markdown",
   "metadata": {},
   "source": [
    "This dropped 5,563,537 titles from our media titles dataframe."
   ]
  },
  {
   "cell_type": "markdown",
   "metadata": {},
   "source": [
    "#### Remove Null Values & Duplicates - Step 4\n",
    "\n",
    "Now we will re-address the additional null values and check for duplciates. To account for them, we need to covert everything to null. We chose to drop all nulls from our directors and media_titles dataframes instead of imputing because after reviewing a sample of the data, a majority of the nulls were for title types that were not relevant to our analysis anyway. For example, TV episodes with missing directors. We also believe the most popular mainstream media is populated on IMDB which will be represented in our data analysis.\n"
   ]
  },
  {
   "cell_type": "code",
   "execution_count": null,
   "metadata": {
    "scrolled": true
   },
   "outputs": [],
   "source": [
    "# first convert '/N' to nulls. Then grab the total number of null values after coversion\n",
    "directors.shape # dataframe shape as a starting point\n",
    "((directors.isnull())).sum() # count of nulls we start with \n",
    "\n",
    "directors.replace(to_replace = '\\\\N', value = np.NaN, inplace=True) # replace all '/N' strings with NaN\n",
    "(directors.isnull()).sum() # we see the count of nulls increase\n",
    "\n",
    "directors.dropna(inplace=True) #drop all the rows with a null value (NaN)\n",
    "\n",
    "(directors.isnull()).sum() # we see the count of nulls go to zero\n",
    "directors.shape # we see a decrease from 9010972 rows to 1266176 due to all the missing data"
   ]
  },
  {
   "cell_type": "markdown",
   "metadata": {},
   "source": [
    "For our directors table, we deleted 7,744,796 rows that all had missing information. "
   ]
  },
  {
   "cell_type": "code",
   "execution_count": 102,
   "metadata": {},
   "outputs": [
    {
     "data": {
      "text/plain": [
       "(2067987, 8)"
      ]
     },
     "execution_count": 102,
     "metadata": {},
     "output_type": "execute_result"
    },
    {
     "data": {
      "text/plain": [
       "tconst                 0\n",
       "titleType              0\n",
       "primaryTitle           0\n",
       "startYear              0\n",
       "genres                 0\n",
       "isTrueCrime            0\n",
       "averageRating    1474082\n",
       "numVotes         1474082\n",
       "dtype: int64"
      ]
     },
     "execution_count": 102,
     "metadata": {},
     "output_type": "execute_result"
    },
    {
     "data": {
      "text/plain": [
       "tconst                 0\n",
       "titleType              0\n",
       "primaryTitle           0\n",
       "startYear         111310\n",
       "genres            114265\n",
       "isTrueCrime            0\n",
       "averageRating    1474082\n",
       "numVotes         1474082\n",
       "dtype: int64"
      ]
     },
     "execution_count": 102,
     "metadata": {},
     "output_type": "execute_result"
    },
    {
     "data": {
      "text/plain": [
       "tconst           0\n",
       "titleType        0\n",
       "primaryTitle     0\n",
       "startYear        0\n",
       "genres           0\n",
       "isTrueCrime      0\n",
       "averageRating    0\n",
       "numVotes         0\n",
       "dtype: int64"
      ]
     },
     "execution_count": 102,
     "metadata": {},
     "output_type": "execute_result"
    },
    {
     "data": {
      "text/plain": [
       "(576250, 8)"
      ]
     },
     "execution_count": 102,
     "metadata": {},
     "output_type": "execute_result"
    }
   ],
   "source": [
    "# first convert '/N' to nulls as well. Then grab the total number of null values after coversion\n",
    "# titles table - conversion\n",
    "media_titles.shape # dataframe shape as a starting point\n",
    "((media_titles.isnull())).sum()# count of nulls we start with \n",
    "\n",
    "media_titles.replace(to_replace = '\\\\N', value = np.NaN, inplace=True) # replace all '/N' strings with NaN\n",
    "(media_titles.isnull()).sum() # we see the count of nulls increase\n",
    "\n",
    "media_titles.dropna(inplace=True) #drop all the rows with a null value (NaN)\n",
    "\n",
    "(media_titles.isnull()).sum() # we see the count of nulls go to zero\n",
    "media_titles.shape # we see a decrease from 2067987 rows to 576250 due to all the missing data"
   ]
  },
  {
   "cell_type": "markdown",
   "metadata": {},
   "source": [
    "We now have 576,250 titles in our media_titles data set. We dropped 1,491,737 titles due to their missing data."
   ]
  },
  {
   "cell_type": "code",
   "execution_count": 103,
   "metadata": {},
   "outputs": [
    {
     "data": {
      "text/html": [
       "<div>\n",
       "<style scoped>\n",
       "    .dataframe tbody tr th:only-of-type {\n",
       "        vertical-align: middle;\n",
       "    }\n",
       "\n",
       "    .dataframe tbody tr th {\n",
       "        vertical-align: top;\n",
       "    }\n",
       "\n",
       "    .dataframe thead th {\n",
       "        text-align: right;\n",
       "    }\n",
       "</style>\n",
       "<table border=\"1\" class=\"dataframe\">\n",
       "  <thead>\n",
       "    <tr style=\"text-align: right;\">\n",
       "      <th></th>\n",
       "      <th>tconst</th>\n",
       "      <th>titleType</th>\n",
       "      <th>primaryTitle</th>\n",
       "      <th>startYear</th>\n",
       "      <th>genres</th>\n",
       "      <th>isTrueCrime</th>\n",
       "      <th>averageRating</th>\n",
       "      <th>numVotes</th>\n",
       "    </tr>\n",
       "  </thead>\n",
       "  <tbody>\n",
       "    <tr>\n",
       "      <th>0</th>\n",
       "      <td>tt0000001</td>\n",
       "      <td>short</td>\n",
       "      <td>Carmencita</td>\n",
       "      <td>1894</td>\n",
       "      <td>Documentary,Short</td>\n",
       "      <td>False</td>\n",
       "      <td>5.7</td>\n",
       "      <td>1684.0</td>\n",
       "    </tr>\n",
       "    <tr>\n",
       "      <th>1</th>\n",
       "      <td>tt0000002</td>\n",
       "      <td>short</td>\n",
       "      <td>Le clown et ses chiens</td>\n",
       "      <td>1892</td>\n",
       "      <td>Animation,Short</td>\n",
       "      <td>False</td>\n",
       "      <td>6.0</td>\n",
       "      <td>207.0</td>\n",
       "    </tr>\n",
       "    <tr>\n",
       "      <th>2</th>\n",
       "      <td>tt0000003</td>\n",
       "      <td>short</td>\n",
       "      <td>Pauvre Pierrot</td>\n",
       "      <td>1892</td>\n",
       "      <td>Animation,Comedy,Romance</td>\n",
       "      <td>False</td>\n",
       "      <td>6.5</td>\n",
       "      <td>1421.0</td>\n",
       "    </tr>\n",
       "    <tr>\n",
       "      <th>3</th>\n",
       "      <td>tt0000004</td>\n",
       "      <td>short</td>\n",
       "      <td>Un bon bock</td>\n",
       "      <td>1892</td>\n",
       "      <td>Animation,Short</td>\n",
       "      <td>False</td>\n",
       "      <td>6.1</td>\n",
       "      <td>121.0</td>\n",
       "    </tr>\n",
       "    <tr>\n",
       "      <th>4</th>\n",
       "      <td>tt0000005</td>\n",
       "      <td>short</td>\n",
       "      <td>Blacksmith Scene</td>\n",
       "      <td>1893</td>\n",
       "      <td>Comedy,Short</td>\n",
       "      <td>False</td>\n",
       "      <td>6.1</td>\n",
       "      <td>2220.0</td>\n",
       "    </tr>\n",
       "  </tbody>\n",
       "</table>\n",
       "</div>"
      ],
      "text/plain": [
       "      tconst titleType            primaryTitle startYear  \\\n",
       "0  tt0000001     short              Carmencita      1894   \n",
       "1  tt0000002     short  Le clown et ses chiens      1892   \n",
       "2  tt0000003     short          Pauvre Pierrot      1892   \n",
       "3  tt0000004     short             Un bon bock      1892   \n",
       "4  tt0000005     short        Blacksmith Scene      1893   \n",
       "\n",
       "                     genres  isTrueCrime  averageRating  numVotes  \n",
       "0         Documentary,Short        False            5.7    1684.0  \n",
       "1           Animation,Short        False            6.0     207.0  \n",
       "2  Animation,Comedy,Romance        False            6.5    1421.0  \n",
       "3           Animation,Short        False            6.1     121.0  \n",
       "4              Comedy,Short        False            6.1    2220.0  "
      ]
     },
     "execution_count": 103,
     "metadata": {},
     "output_type": "execute_result"
    },
    {
     "data": {
      "text/plain": [
       "tconst           0.0\n",
       "titleType        0.0\n",
       "primaryTitle     0.0\n",
       "startYear        0.0\n",
       "genres           0.0\n",
       "isTrueCrime      0.0\n",
       "averageRating    0.0\n",
       "numVotes         0.0\n",
       "dtype: float64"
      ]
     },
     "execution_count": 103,
     "metadata": {},
     "output_type": "execute_result"
    }
   ],
   "source": [
    "media_titles.head()\n",
    "duplicate_media_titles = media_titles[media_titles.duplicated('tconst')] \n",
    "duplicate_media_titles.sum()"
   ]
  },
  {
   "cell_type": "code",
   "execution_count": null,
   "metadata": {},
   "outputs": [],
   "source": [
    "duplicate_dir = directors[directors.duplicated(subset='director')] \n",
    "duplicate_dir.sum()\n",
    "duplicate_dir = directors[directors.duplicated(subset='tconst')] \n",
    "duplicate_dir.sum()"
   ]
  },
  {
   "cell_type": "markdown",
   "metadata": {},
   "source": [
    "##### Duplicates\n",
    "\n",
    "Duplicate values "
   ]
  },
  {
   "cell_type": "markdown",
   "metadata": {},
   "source": [
    "#### Missing Data & Duplicate Rows \n",
    "\n",
    "* question 1 & 2\n",
    "* state why it was dropped & why we didn't choose to impute (i.e. not take the avg and use that for the missing value)\n",
    "\n",
    "Sahiti\n",
    "\n",
    "1) Check missing data for media_titles & directors(null was done above, still has data with /N)\n",
    "2) Check duplicate rows for media_titles & directors"
   ]
  },
  {
   "cell_type": "markdown",
   "metadata": {},
   "source": [
    "Drop missing data for media_titles dataframe"
   ]
  },
  {
   "cell_type": "markdown",
   "metadata": {},
   "source": [
    "#### Outliers & Graph\n",
    "\n",
    "\n",
    "* directors should only have titles frmo the media_titles dataframe\n",
    "* do it against avg scores/popularity due to low volume of ratings (an example)\n",
    "* drop a title from the media titles and directors table if the number of ratings is low... \n",
    "* question 4 & 2(outliers)"
   ]
  },
  {
   "cell_type": "code",
   "execution_count": 67,
   "metadata": {},
   "outputs": [
    {
     "data": {
      "text/html": [
       "<div>\n",
       "<style scoped>\n",
       "    .dataframe tbody tr th:only-of-type {\n",
       "        vertical-align: middle;\n",
       "    }\n",
       "\n",
       "    .dataframe tbody tr th {\n",
       "        vertical-align: top;\n",
       "    }\n",
       "\n",
       "    .dataframe thead tr th {\n",
       "        text-align: left;\n",
       "    }\n",
       "\n",
       "    .dataframe thead tr:last-of-type th {\n",
       "        text-align: right;\n",
       "    }\n",
       "</style>\n",
       "<table border=\"1\" class=\"dataframe\">\n",
       "  <thead>\n",
       "    <tr>\n",
       "      <th></th>\n",
       "      <th></th>\n",
       "      <th>averageRating</th>\n",
       "      <th>numVotes</th>\n",
       "    </tr>\n",
       "    <tr>\n",
       "      <th></th>\n",
       "      <th></th>\n",
       "      <th>mean</th>\n",
       "      <th>mean</th>\n",
       "    </tr>\n",
       "    <tr>\n",
       "      <th>director</th>\n",
       "      <th>primaryName</th>\n",
       "      <th></th>\n",
       "      <th></th>\n",
       "    </tr>\n",
       "  </thead>\n",
       "  <tbody>\n",
       "    <tr>\n",
       "      <th>nm0000005</th>\n",
       "      <th>Ingmar Bergman</th>\n",
       "      <td>7.324691</td>\n",
       "      <td>9254.839506</td>\n",
       "    </tr>\n",
       "    <tr>\n",
       "      <th>nm0000008</th>\n",
       "      <th>Marlon Brando</th>\n",
       "      <td>7.100000</td>\n",
       "      <td>10154.000000</td>\n",
       "    </tr>\n",
       "    <tr>\n",
       "      <th>nm0000009</th>\n",
       "      <th>Richard Burton</th>\n",
       "      <td>5.600000</td>\n",
       "      <td>939.000000</td>\n",
       "    </tr>\n",
       "    <tr>\n",
       "      <th>nm0000010</th>\n",
       "      <th>James Cagney</th>\n",
       "      <td>5.800000</td>\n",
       "      <td>225.000000</td>\n",
       "    </tr>\n",
       "    <tr>\n",
       "      <th>nm0000018</th>\n",
       "      <th>Kirk Douglas</th>\n",
       "      <td>5.850000</td>\n",
       "      <td>1089.500000</td>\n",
       "    </tr>\n",
       "  </tbody>\n",
       "</table>\n",
       "</div>"
      ],
      "text/plain": [
       "                         averageRating      numVotes\n",
       "                                  mean          mean\n",
       "director  primaryName                               \n",
       "nm0000005 Ingmar Bergman      7.324691   9254.839506\n",
       "nm0000008 Marlon Brando       7.100000  10154.000000\n",
       "nm0000009 Richard Burton      5.600000    939.000000\n",
       "nm0000010 James Cagney        5.800000    225.000000\n",
       "nm0000018 Kirk Douglas        5.850000   1089.500000"
      ]
     },
     "execution_count": 67,
     "metadata": {},
     "output_type": "execute_result"
    },
    {
     "name": "stdout",
     "output_type": "stream",
     "text": [
      "<class 'pandas.core.frame.DataFrame'>\n",
      "MultiIndex: 246097 entries, ('nm0000005', 'Ingmar Bergman') to ('nm9993281', 'Marija Ratkovic Vidakovic')\n",
      "Data columns (total 2 columns):\n",
      " #   Column                 Non-Null Count   Dtype  \n",
      "---  ------                 --------------   -----  \n",
      " 0   (averageRating, mean)  246097 non-null  float64\n",
      " 1   (numVotes, mean)       246097 non-null  float64\n",
      "dtypes: float64(2)\n",
      "memory usage: 9.3+ MB\n"
     ]
    },
    {
     "data": {
      "text/html": [
       "<div>\n",
       "<style scoped>\n",
       "    .dataframe tbody tr th:only-of-type {\n",
       "        vertical-align: middle;\n",
       "    }\n",
       "\n",
       "    .dataframe tbody tr th {\n",
       "        vertical-align: top;\n",
       "    }\n",
       "\n",
       "    .dataframe thead tr th {\n",
       "        text-align: left;\n",
       "    }\n",
       "\n",
       "    .dataframe thead tr:last-of-type th {\n",
       "        text-align: right;\n",
       "    }\n",
       "</style>\n",
       "<table border=\"1\" class=\"dataframe\">\n",
       "  <thead>\n",
       "    <tr>\n",
       "      <th></th>\n",
       "      <th></th>\n",
       "      <th>averageRating</th>\n",
       "      <th>numVotes</th>\n",
       "    </tr>\n",
       "    <tr>\n",
       "      <th></th>\n",
       "      <th></th>\n",
       "      <th>mean</th>\n",
       "      <th>mean</th>\n",
       "    </tr>\n",
       "    <tr>\n",
       "      <th>director</th>\n",
       "      <th>primaryName</th>\n",
       "      <th></th>\n",
       "      <th></th>\n",
       "    </tr>\n",
       "  </thead>\n",
       "  <tbody>\n",
       "    <tr>\n",
       "      <th>nm0849164</th>\n",
       "      <th>Loveleen Tandan</th>\n",
       "      <td>8.000000</td>\n",
       "      <td>800212.000000</td>\n",
       "    </tr>\n",
       "    <tr>\n",
       "      <th>nm0634240</th>\n",
       "      <th>Christopher Nolan</th>\n",
       "      <td>7.806250</td>\n",
       "      <td>768164.562500</td>\n",
       "    </tr>\n",
       "    <tr>\n",
       "      <th>nm2297407</th>\n",
       "      <th>George Mastras</th>\n",
       "      <td>9.600000</td>\n",
       "      <td>745464.000000</td>\n",
       "    </tr>\n",
       "    <tr>\n",
       "      <th>nm0000233</th>\n",
       "      <th>Quentin Tarantino</th>\n",
       "      <td>7.695833</td>\n",
       "      <td>413055.750000</td>\n",
       "    </tr>\n",
       "    <tr>\n",
       "      <th>nm1888967</th>\n",
       "      <th>D.B. Weiss</th>\n",
       "      <td>7.300000</td>\n",
       "      <td>411091.400000</td>\n",
       "    </tr>\n",
       "    <tr>\n",
       "      <th>nm0821432</th>\n",
       "      <th>Chad Stahelski</th>\n",
       "      <td>7.433333</td>\n",
       "      <td>395292.666667</td>\n",
       "    </tr>\n",
       "    <tr>\n",
       "      <th>nm2937122</th>\n",
       "      <th>Adrian Molina</th>\n",
       "      <td>8.400000</td>\n",
       "      <td>387481.000000</td>\n",
       "    </tr>\n",
       "    <tr>\n",
       "      <th>nm0881279</th>\n",
       "      <th>Lee Unkrich</th>\n",
       "      <td>7.577778</td>\n",
       "      <td>383216.444444</td>\n",
       "    </tr>\n",
       "    <tr>\n",
       "      <th>nm2130108</th>\n",
       "      <th>Bob Persichetti</th>\n",
       "      <td>8.400000</td>\n",
       "      <td>378342.000000</td>\n",
       "    </tr>\n",
       "    <tr>\n",
       "      <th>nm0745247</th>\n",
       "      <th>Rodney Rothman</th>\n",
       "      <td>8.400000</td>\n",
       "      <td>378342.000000</td>\n",
       "    </tr>\n",
       "  </tbody>\n",
       "</table>\n",
       "</div>"
      ],
      "text/plain": [
       "                            averageRating       numVotes\n",
       "                                     mean           mean\n",
       "director  primaryName                                   \n",
       "nm0849164 Loveleen Tandan        8.000000  800212.000000\n",
       "nm0634240 Christopher Nolan      7.806250  768164.562500\n",
       "nm2297407 George Mastras         9.600000  745464.000000\n",
       "nm0000233 Quentin Tarantino      7.695833  413055.750000\n",
       "nm1888967 D.B. Weiss             7.300000  411091.400000\n",
       "nm0821432 Chad Stahelski         7.433333  395292.666667\n",
       "nm2937122 Adrian Molina          8.400000  387481.000000\n",
       "nm0881279 Lee Unkrich            7.577778  383216.444444\n",
       "nm2130108 Bob Persichetti        8.400000  378342.000000\n",
       "nm0745247 Rodney Rothman         8.400000  378342.000000"
      ]
     },
     "execution_count": 67,
     "metadata": {},
     "output_type": "execute_result"
    },
    {
     "data": {
      "text/html": [
       "<div>\n",
       "<style scoped>\n",
       "    .dataframe tbody tr th:only-of-type {\n",
       "        vertical-align: middle;\n",
       "    }\n",
       "\n",
       "    .dataframe tbody tr th {\n",
       "        vertical-align: top;\n",
       "    }\n",
       "\n",
       "    .dataframe thead tr th {\n",
       "        text-align: left;\n",
       "    }\n",
       "\n",
       "    .dataframe thead tr:last-of-type th {\n",
       "        text-align: right;\n",
       "    }\n",
       "</style>\n",
       "<table border=\"1\" class=\"dataframe\">\n",
       "  <thead>\n",
       "    <tr>\n",
       "      <th></th>\n",
       "      <th></th>\n",
       "      <th>averageRating</th>\n",
       "      <th>numVotes</th>\n",
       "    </tr>\n",
       "    <tr>\n",
       "      <th></th>\n",
       "      <th></th>\n",
       "      <th>mean</th>\n",
       "      <th>mean</th>\n",
       "    </tr>\n",
       "    <tr>\n",
       "      <th>director</th>\n",
       "      <th>primaryName</th>\n",
       "      <th></th>\n",
       "      <th></th>\n",
       "    </tr>\n",
       "  </thead>\n",
       "  <tbody>\n",
       "    <tr>\n",
       "      <th>nm10947293</th>\n",
       "      <th>Markus Lingevall</th>\n",
       "      <td>10.0</td>\n",
       "      <td>5.0</td>\n",
       "    </tr>\n",
       "    <tr>\n",
       "      <th>nm6274721</th>\n",
       "      <th>Elanor Miller</th>\n",
       "      <td>10.0</td>\n",
       "      <td>8.0</td>\n",
       "    </tr>\n",
       "    <tr>\n",
       "      <th>nm10709217</th>\n",
       "      <th>Steve Schofield</th>\n",
       "      <td>10.0</td>\n",
       "      <td>5.0</td>\n",
       "    </tr>\n",
       "    <tr>\n",
       "      <th>nm1682396</th>\n",
       "      <th>Arvydas Lebeliunas</th>\n",
       "      <td>10.0</td>\n",
       "      <td>5.0</td>\n",
       "    </tr>\n",
       "    <tr>\n",
       "      <th>nm12227775</th>\n",
       "      <th>Muhammad Javed Musa</th>\n",
       "      <td>10.0</td>\n",
       "      <td>8.0</td>\n",
       "    </tr>\n",
       "    <tr>\n",
       "      <th>nm11839110</th>\n",
       "      <th>Black_nrc</th>\n",
       "      <td>10.0</td>\n",
       "      <td>10.0</td>\n",
       "    </tr>\n",
       "    <tr>\n",
       "      <th>nm1842255</th>\n",
       "      <th>Olga Morozova</th>\n",
       "      <td>10.0</td>\n",
       "      <td>37.0</td>\n",
       "    </tr>\n",
       "    <tr>\n",
       "      <th>nm2043349</th>\n",
       "      <th>Adam Ratcliffe</th>\n",
       "      <td>10.0</td>\n",
       "      <td>6.0</td>\n",
       "    </tr>\n",
       "    <tr>\n",
       "      <th>nm9947220</th>\n",
       "      <th>Nikos Psarros</th>\n",
       "      <td>10.0</td>\n",
       "      <td>6.0</td>\n",
       "    </tr>\n",
       "    <tr>\n",
       "      <th>nm1627409</th>\n",
       "      <th>Chris Teague</th>\n",
       "      <td>10.0</td>\n",
       "      <td>5.0</td>\n",
       "    </tr>\n",
       "  </tbody>\n",
       "</table>\n",
       "</div>"
      ],
      "text/plain": [
       "                               averageRating numVotes\n",
       "                                        mean     mean\n",
       "director   primaryName                               \n",
       "nm10947293 Markus Lingevall             10.0      5.0\n",
       "nm6274721  Elanor Miller                10.0      8.0\n",
       "nm10709217 Steve Schofield              10.0      5.0\n",
       "nm1682396  Arvydas Lebeliunas           10.0      5.0\n",
       "nm12227775 Muhammad Javed Musa          10.0      8.0\n",
       "nm11839110 Black_nrc                    10.0     10.0\n",
       "nm1842255  Olga Morozova                10.0     37.0\n",
       "nm2043349  Adam Ratcliffe               10.0      6.0\n",
       "nm9947220  Nikos Psarros                10.0      6.0\n",
       "nm1627409  Chris Teague                 10.0      5.0"
      ]
     },
     "execution_count": 67,
     "metadata": {},
     "output_type": "execute_result"
    }
   ],
   "source": [
    "director_popularity = directors[['director', 'primaryName', 'averageRating','numVotes']].groupby(['director', 'primaryName']).agg(['mean'])\n",
    "director_popularity.head()\n",
    "director_popularity.info()\n",
    "director_popularity.sort_values(by=[('numVotes', 'mean')], ascending = False)[:10]\n",
    "director_popularity.sort_values(by=[('averageRating', 'mean')], ascending = False)[:10]\n",
    "## we probably should drop rows from this that have less than n votes"
   ]
  },
  {
   "cell_type": "code",
   "execution_count": 66,
   "metadata": {},
   "outputs": [
    {
     "data": {
      "text/plain": [
       "<AxesSubplot:>"
      ]
     },
     "execution_count": 66,
     "metadata": {},
     "output_type": "execute_result"
    },
    {
     "data": {
      "image/png": "[encoded data removed]",
      "text/plain": [
       "<Figure size 432x288 with 1 Axes>"
      ]
     },
     "metadata": {
      "needs_background": "light"
     },
     "output_type": "display_data"
    }
   ],
   "source": [
    "# boxplots\n",
    "director_popularity.boxplot(column=[('numVotes', 'mean')], rot=55)\n",
    "#fig = px.box(director_popularity, y=('numVotes', 'mean'))\n",
    "#fig.show()\n",
    "\n",
    "#fig = px.box(directors, y=\"numVotes\", points=\"all\")\n",
    "#fig.show()"
   ]
  },
  {
   "cell_type": "markdown",
   "metadata": {},
   "source": [
    "<div class=\"alert alert-block alert-danger\"><b>STOP HERE for your EDA Phase 1 assignment. Submit your <i><u>cleaned</u></i> data file along with the completed notebook up to this point for grading.</b></div>"
   ]
  },
  {
   "cell_type": "markdown",
   "metadata": {},
   "source": [
    "# EDA Phase 2"
   ]
  },
  {
   "cell_type": "markdown",
   "metadata": {},
   "source": [
    "<div class=\"alert alert-block alert-info\">All of your work for the EDA Phase 2 assignment will begin below here. Refer to the detailed instructions and expectations for this assignment in Canvas.</div>"
   ]
  },
  {
   "cell_type": "code",
   "execution_count": null,
   "metadata": {},
   "outputs": [],
   "source": []
  }
 ],
 "metadata": {
  "kernelspec": {
   "display_name": "Python 3",
   "language": "python",
   "name": "python3"
  },
  "language_info": {
   "codemirror_mode": {
    "name": "ipython",
    "version": 3
   },
   "file_extension": ".py",
   "mimetype": "text/x-python",
   "name": "python",
   "nbconvert_exporter": "python",
   "pygments_lexer": "ipython3",
   "version": "3.8.5"
  }
 },
 "nbformat": 4,
 "nbformat_minor": 1
}
